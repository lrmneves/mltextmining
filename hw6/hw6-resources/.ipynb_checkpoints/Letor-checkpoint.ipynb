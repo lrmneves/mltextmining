{
 "cells": [
  {
   "cell_type": "markdown",
   "metadata": {},
   "source": [
    "First we import the libraries and load the training data"
   ]
  },
  {
   "cell_type": "code",
   "execution_count": 69,
   "metadata": {
    "collapsed": false
   },
   "outputs": [
    {
     "name": "stdout",
     "output_type": "stream",
     "text": [
      "(820367,)\n"
     ]
    }
   ],
   "source": [
    "import numpy as np\n",
    "from scipy.sparse import csr_matrix,rand,coo_matrix\n",
    "from sklearn.metrics.pairwise import cosine_similarity\n",
    "from sklearn.preprocessing import normalize\n",
    "import numpy.linalg as LA\n",
    "import time\n",
    "import sys\n",
    "import math\n",
    "from subprocess import call\n",
    "\n",
    "path = \"preprocess_train_matrix_fact\"\n",
    "\n",
    "with open(path) as train:\n",
    "    rows = []\n",
    "    cols = []\n",
    "    data = []\n",
    "    max_row = 0\n",
    "    max_col = 0\n",
    "    for line in train.readlines():\n",
    "        current = line.split(\" \")\n",
    "        r = int(current[0])\n",
    "        if r > max_row:\n",
    "            max_row = r\n",
    "        for movie in current[1].split(\",\"):\n",
    "            movie_list = movie.split(\"#\")\n",
    "            rows.append(r)\n",
    "            c = int(movie_list[0])\n",
    "            cols.append(c)\n",
    "            if c > max_col:\n",
    "                max_col = c\n",
    "            data.append(float(movie_list[1]))\n",
    "\n",
    "    rating_matrix =csr_matrix((data,(rows,cols)), shape=(max_row+1,max_col+1))\n",
    "    \n",
    "print rating_matrix.data.shape"
   ]
  },
  {
   "cell_type": "markdown",
   "metadata": {},
   "source": [
    "We train pmf and get k latent factors"
   ]
  },
  {
   "cell_type": "code",
   "execution_count": 146,
   "metadata": {
    "collapsed": false
   },
   "outputs": [
    {
     "name": "stdout",
     "output_type": "stream",
     "text": [
      "Lambda_U = 0.010000\n",
      "Lambda_V = 0.010000\n",
      "Initial error: 250153323.26\n",
      "Epoch 1\n",
      "Cost: 884175.43\n",
      "Epoch 2\n",
      "Cost: 361414.83\n",
      "Epoch 3\n",
      "Cost: 268410.06\n",
      "Epoch 4\n",
      "Cost: 229240.88\n",
      "Epoch 5\n",
      "Cost: 205328.49\n",
      "Epoch 6\n",
      "Cost: 189139.42\n",
      "Epoch 7\n",
      "Cost: 177424.89\n",
      "Epoch 8\n",
      "Cost: 168394.85\n",
      "Epoch 9\n",
      "Cost: 161084.25\n",
      "Epoch 10\n",
      "Cost: 154976.14\n",
      "Epoch 11\n",
      "Cost: 149754.21\n",
      "Epoch 12\n",
      "Cost: 145211.76\n",
      "Epoch 13\n",
      "Cost: 141200.45\n",
      "Epoch 14\n",
      "Cost: 137590.48\n",
      "Epoch 15\n",
      "Cost: 134290.19\n",
      "Epoch 16\n",
      "Cost: 131248.93\n",
      "Epoch 17\n",
      "Cost: 128450.87\n",
      "Epoch 18\n",
      "Cost: 125890.24\n",
      "Epoch 19\n",
      "Cost: 123551.73\n",
      "Epoch 20\n",
      "Cost: 121408.37\n",
      "Epoch 21\n",
      "Cost: 119426.10\n",
      "Epoch 22\n",
      "Cost: 117569.68\n",
      "Epoch 23\n",
      "Cost: 115809.35\n",
      "Epoch 24\n",
      "Cost: 114120.52\n",
      "Epoch 25\n",
      "Cost: 112475.77\n",
      "Epoch 26\n",
      "Cost: 110847.71\n",
      "Epoch 27\n",
      "Cost: 109224.53\n",
      "Epoch 28\n",
      "Cost: 107614.45\n",
      "Epoch 29\n",
      "Cost: 106032.71\n",
      "Epoch 30\n",
      "Cost: 104491.19\n",
      "Epoch 31\n",
      "Cost: 102997.31\n",
      "Epoch 32\n",
      "Cost: 101553.95\n",
      "Epoch 33\n",
      "Cost: 100158.18\n",
      "Epoch 34\n",
      "Cost: 98805.51\n",
      "Epoch 35\n",
      "Cost: 97496.81\n",
      "Epoch 36\n",
      "Cost: 96236.43\n",
      "Epoch 37\n",
      "Cost: 95026.13\n",
      "Epoch 38\n",
      "Cost: 93864.15\n",
      "Epoch 39\n",
      "Cost: 92747.52\n",
      "Epoch 40\n",
      "Cost: 91673.82\n",
      "Epoch 41\n",
      "Cost: 90641.55\n",
      "Epoch 42\n",
      "Cost: 89649.85\n",
      "Epoch 43\n",
      "Cost: 88698.51\n",
      "Epoch 44\n",
      "Cost: 87787.61\n",
      "Epoch 45\n",
      "Cost: 86916.37\n",
      "Epoch 46\n",
      "Cost: 86081.50\n",
      "Epoch 47\n",
      "Cost: 85276.95\n",
      "Epoch 48\n",
      "Cost: 84497.47\n",
      "Epoch 49\n",
      "Cost: 83742.96\n",
      "Epoch 50\n",
      "Cost: 83016.02\n",
      "Total of 0 iterations.\n",
      "lambda_u = 0.01\n",
      "lambda_v = 0.01\n",
      "alpha = 0.05\n"
     ]
    }
   ],
   "source": [
    "from pmf import matrix_fact\n",
    "k = 100\n",
    "U = np.random.random((rating_matrix.shape[0],k))\n",
    "\n",
    "V = np.random.random((rating_matrix.shape[1],k))\n",
    "\n",
    "s = time.time()\n",
    "\n",
    "E,_,U,V = matrix_fact(rating_matrix, U, V, k,alpha=0.005,lambda_u = 0.01, lambda_v = 0.01)\n",
    "rating_matrix.data = rating_matrix.data + 3\n",
    "e = time.time()"
   ]
  },
  {
   "cell_type": "code",
   "execution_count": 147,
   "metadata": {
    "collapsed": false
   },
   "outputs": [],
   "source": [
    "user_features = {}\n",
    "counter = 0\n",
    "extreme_rating = rating_matrix.copy()\n",
    "for i in range(len(extreme_rating.data)):\n",
    "    if extreme_rating.data[i] > 1 and  extreme_rating.data[i] < 5:\n",
    "        extreme_rating.data[i] = 0\n",
    "\n",
    "extreme_rating.eliminate_zeros()\n",
    "\n",
    "\n",
    "extreme_rating= extreme_rating.toarray()"
   ]
  },
  {
   "cell_type": "markdown",
   "metadata": {},
   "source": [
    "We create the features from the pmf results and get the statistics"
   ]
  },
  {
   "cell_type": "code",
   "execution_count": 148,
   "metadata": {
    "collapsed": false
   },
   "outputs": [
    {
     "name": "stdout",
     "output_type": "stream",
     "text": [
      "3520432\n"
     ]
    }
   ],
   "source": [
    "X_train = []\n",
    "Y_train = []\n",
    "s = time.time()\n",
    "\n",
    "for u in range(extreme_rating.shape[0]):\n",
    "    user_features[u] = []\n",
    "    current = extreme_rating[u,:]\n",
    "    items = current.nonzero()[0]\n",
    "\n",
    "\n",
    "    mult = np.multiply(U[u,:],V)\n",
    "    \n",
    "    flag = False\n",
    "    for i in items:\n",
    "        x_ui = mult[i]\n",
    "        for j in items:\n",
    "            if i == j:\n",
    "                continue\n",
    "\n",
    "            if abs(extreme_rating[u,i] - extreme_rating[u,j]) >= 4:\n",
    "                x_uj = mult[j]\n",
    "                features = x_ui - x_uj\n",
    "                X_train.append(features)\n",
    "                label = (extreme_rating[u,i] - extreme_rating[u,j])/abs(extreme_rating[u,i] - extreme_rating[u,j])\n",
    "                Y_train.append(label)\n",
    "                user_features[u].append([features,label])\n",
    "                counter +=1\n",
    "e = time.time()\n",
    "\n",
    "\n",
    "\n",
    "print counter"
   ]
  },
  {
   "cell_type": "code",
   "execution_count": 119,
   "metadata": {
    "collapsed": false
   },
   "outputs": [
    {
     "name": "stdout",
     "output_type": "stream",
     "text": [
      "29.9132840633\n"
     ]
    }
   ],
   "source": [
    "print e-s"
   ]
  },
  {
   "cell_type": "code",
   "execution_count": 120,
   "metadata": {
    "collapsed": false
   },
   "outputs": [
    {
     "name": "stdout",
     "output_type": "stream",
     "text": [
      "1.0\n"
     ]
    }
   ],
   "source": [
    "pos = 0.0\n",
    "neg = 0.0\n",
    "\n",
    "for u in user_features:\n",
    "    for r in user_features[u]:\n",
    "        if r[1] > 0:\n",
    "            pos+=1\n",
    "        else:\n",
    "            neg+=1\n",
    "print pos/neg"
   ]
  },
  {
   "cell_type": "code",
   "execution_count": 121,
   "metadata": {
    "collapsed": false
   },
   "outputs": [
    {
     "data": {
      "text/plain": [
       "196"
      ]
     },
     "execution_count": 121,
     "metadata": {},
     "output_type": "execute_result"
    }
   ],
   "source": [
    "len(user_features[1234])"
   ]
  },
  {
   "cell_type": "code",
   "execution_count": 122,
   "metadata": {
    "collapsed": false
   },
   "outputs": [
    {
     "data": {
      "text/plain": [
       "64"
      ]
     },
     "execution_count": 122,
     "metadata": {},
     "output_type": "execute_result"
    }
   ],
   "source": [
    "len(user_features[4321])"
   ]
  },
  {
   "cell_type": "markdown",
   "metadata": {},
   "source": [
    "We persist features to disk to train SVM"
   ]
  },
  {
   "cell_type": "code",
   "execution_count": 123,
   "metadata": {
    "collapsed": false
   },
   "outputs": [],
   "source": [
    "# with open(\"training_set\",\"a\") as f:\n",
    "#     for u in user_features:\n",
    "#         for r in user_features[u]:\n",
    "#             string = \"\"\n",
    "#             string+= str(int(r[1]))\n",
    "#             for idx,feature in enumerate(r[0]):\n",
    "#                 string+=\" \" + str(idx+1) + \":\" +str(feature)\n",
    "#             string += \"\\n\"\n",
    "#             f.write(string)\n",
    "\n",
    "            \n",
    "            "
   ]
  },
  {
   "cell_type": "markdown",
   "metadata": {},
   "source": [
    "We train SVM and LR models"
   ]
  },
  {
   "cell_type": "code",
   "execution_count": 124,
   "metadata": {
    "collapsed": false
   },
   "outputs": [],
   "source": [
    "# s = time.time()\n",
    "\n",
    "# call([\"liblinear-2.1/train\", \"training_set\"])\n",
    "\n",
    "# e = time.time()\n",
    "\n",
    "# print \"SVM took %2.f seconds\"%(e-s)"
   ]
  },
  {
   "cell_type": "code",
   "execution_count": 125,
   "metadata": {
    "collapsed": false
   },
   "outputs": [],
   "source": [
    "# with open(\"training_set.model\") as f:\n",
    "#     lines = f.readlines()\n",
    "#     i = 0\n",
    "#     while lines[i] != \"w\\n\":\n",
    "#         i+=1\n",
    "#     i+=1\n",
    "#     SVM_W = []\n",
    "#     while i < len(lines):\n",
    "#         SVM_W.append(float(lines[i]))\n",
    "#         i+=1\n"
   ]
  },
  {
   "cell_type": "code",
   "execution_count": 154,
   "metadata": {
    "collapsed": false
   },
   "outputs": [
    {
     "name": "stdout",
     "output_type": "stream",
     "text": [
      "Initial likelihood is -2440177.5152\n",
      "Train Accuracy: 0.50000\n",
      "Epoch 0 likelihood is -683741.4027\n",
      "Train Accuracy: 0.99262\n",
      "Epoch 1 likelihood is -424275.7789\n",
      "Train Accuracy: 0.99275\n",
      "Epoch 2 likelihood is -323182.1879\n",
      "Train Accuracy: 0.99283\n",
      "Epoch 3 likelihood is -268981.6434\n",
      "Train Accuracy: 0.99290\n",
      "Epoch 4 likelihood is -234968.1946\n",
      "Train Accuracy: 0.99294\n",
      "Epoch 5 likelihood is -211519.8984\n",
      "Train Accuracy: 0.99298\n",
      "Epoch 6 likelihood is -194312.8700\n",
      "Train Accuracy: 0.99302\n",
      "Epoch 7 likelihood is -181110.8084\n",
      "Train Accuracy: 0.99304\n",
      "Epoch 8 likelihood is -170638.1494\n",
      "Train Accuracy: 0.99307\n",
      "Epoch 9 likelihood is -162112.7609\n",
      "Train Accuracy: 0.99310\n",
      "Epoch 10 likelihood is -155027.6025\n",
      "Train Accuracy: 0.99312\n",
      "Epoch 11 likelihood is -149039.1007\n",
      "Train Accuracy: 0.99314\n",
      "Epoch 12 likelihood is -143905.9090\n",
      "Train Accuracy: 0.99318\n",
      "Epoch 13 likelihood is -139453.3462\n",
      "Train Accuracy: 0.99320\n",
      "Epoch 14 likelihood is -135551.7512\n",
      "Train Accuracy: 0.99322\n",
      "Epoch 15 likelihood is -132102.7817\n",
      "Train Accuracy: 0.99324\n",
      "Epoch 16 likelihood is -129030.4445\n",
      "Train Accuracy: 0.99325\n",
      "Epoch 17 likelihood is -126275.0516\n",
      "Train Accuracy: 0.99327\n",
      "Epoch 18 likelihood is -123789.0432\n",
      "Train Accuracy: 0.99329\n",
      "Epoch 19 likelihood is -121534.0373\n",
      "Train Accuracy: 0.99331\n",
      "Epoch 20 likelihood is -119478.7034\n",
      "Train Accuracy: 0.99332\n",
      "Epoch 21 likelihood is -117597.2038\n",
      "Train Accuracy: 0.99334\n",
      "Epoch 22 likelihood is -115868.0319\n",
      "Train Accuracy: 0.99335\n",
      "Epoch 23 likelihood is -114273.1351\n",
      "Train Accuracy: 0.99336\n",
      "Epoch 24 likelihood is -112797.2435\n",
      "Train Accuracy: 0.99338\n",
      "Epoch 25 likelihood is -111427.3492\n",
      "Train Accuracy: 0.99338\n",
      "Epoch 26 likelihood is -110152.2997\n",
      "Train Accuracy: 0.99339\n",
      "Epoch 27 likelihood is -108962.4760\n",
      "Train Accuracy: 0.99340\n",
      "Epoch 28 likelihood is -107849.5354\n",
      "Train Accuracy: 0.99341\n",
      "Epoch 29 likelihood is -106806.2055\n",
      "Train Accuracy: 0.99342\n",
      "Epoch 30 likelihood is -105826.1161\n",
      "Train Accuracy: 0.99344\n",
      "Epoch 31 likelihood is -104903.6625\n",
      "Train Accuracy: 0.99345\n",
      "Epoch 32 likelihood is -104033.8931\n",
      "Train Accuracy: 0.99346\n",
      "Epoch 33 likelihood is -103212.4159\n",
      "Train Accuracy: 0.99346\n",
      "Epoch 34 likelihood is -102435.3211\n",
      "Train Accuracy: 0.99347\n",
      "Epoch 35 likelihood is -101699.1162\n",
      "Train Accuracy: 0.99348\n",
      "Epoch 36 likelihood is -101000.6710\n",
      "Train Accuracy: 0.99349\n",
      "Epoch 37 likelihood is -100337.1718\n",
      "Train Accuracy: 0.99350\n",
      "Epoch 38 likelihood is -99706.0816\n",
      "Train Accuracy: 0.99351\n",
      "Epoch 39 likelihood is -99105.1070\n",
      "Train Accuracy: 0.99351\n",
      "Epoch 40 likelihood is -98532.1690\n",
      "Train Accuracy: 0.99352\n",
      "Epoch 41 likelihood is -97985.3786\n",
      "Train Accuracy: 0.99353\n",
      "Epoch 42 likelihood is -97463.0151\n",
      "Train Accuracy: 0.99353\n",
      "Epoch 43 likelihood is -96963.5079\n",
      "Train Accuracy: 0.99353\n",
      "Epoch 44 likelihood is -96485.4199\n",
      "Train Accuracy: 0.99354\n",
      "Epoch 45 likelihood is -96027.4339\n",
      "Train Accuracy: 0.99354\n",
      "Epoch 46 likelihood is -95588.3400\n",
      "Train Accuracy: 0.99355\n",
      "Epoch 47 likelihood is -95167.0248\n",
      "Train Accuracy: 0.99356\n",
      "Epoch 48 likelihood is -94762.4618\n",
      "Train Accuracy: 0.99356\n",
      "Epoch 49 likelihood is -94373.7032\n",
      "Train Accuracy: 0.99357\n",
      "Epoch 50 likelihood is -93999.8723\n",
      "Train Accuracy: 0.99357\n",
      "Epoch 51 likelihood is -93640.1567\n",
      "Train Accuracy: 0.99358\n",
      "Epoch 52 likelihood is -93293.8029\n",
      "Train Accuracy: 0.99358\n",
      "Epoch 53 likelihood is -92960.1105\n",
      "Train Accuracy: 0.99359\n",
      "Epoch 54 likelihood is -92638.4280\n",
      "Train Accuracy: 0.99360\n",
      "Epoch 55 likelihood is -92328.1480\n",
      "Train Accuracy: 0.99360\n",
      "Epoch 56 likelihood is -92028.7042\n",
      "Train Accuracy: 0.99360\n",
      "Epoch 57 likelihood is -91739.5672\n",
      "Train Accuracy: 0.99361\n",
      "Epoch 58 likelihood is -91460.2423\n",
      "Train Accuracy: 0.99361\n",
      "Epoch 59 likelihood is -91190.2659\n",
      "Train Accuracy: 0.99361\n",
      "Epoch 60 likelihood is -90929.2035\n",
      "Train Accuracy: 0.99361\n",
      "Epoch 61 likelihood is -90676.6474\n",
      "Train Accuracy: 0.99362\n",
      "Epoch 62 likelihood is -90432.2145\n",
      "Train Accuracy: 0.99363\n",
      "Epoch 63 likelihood is -90195.5445\n",
      "Train Accuracy: 0.99363\n",
      "Epoch 64 likelihood is -89966.2983\n",
      "Train Accuracy: 0.99364\n",
      "Epoch 65 likelihood is -89744.1564\n",
      "Train Accuracy: 0.99364\n",
      "Epoch 66 likelihood is -89528.8174\n",
      "Train Accuracy: 0.99365\n",
      "Epoch 67 likelihood is -89319.9968\n",
      "Train Accuracy: 0.99365\n",
      "Epoch 68 likelihood is -89117.4257\n",
      "Train Accuracy: 0.99365\n",
      "Epoch 69 likelihood is -88920.8500\n",
      "Train Accuracy: 0.99366\n",
      "Epoch 70 likelihood is -88730.0291\n",
      "Train Accuracy: 0.99366\n",
      "Epoch 71 likelihood is -88544.7352\n",
      "Train Accuracy: 0.99366\n",
      "Epoch 72 likelihood is -88364.7522\n",
      "Train Accuracy: 0.99367\n",
      "Epoch 73 likelihood is -88189.8754\n",
      "Train Accuracy: 0.99367\n",
      "Epoch 74 likelihood is -88019.9101\n",
      "Train Accuracy: 0.99368\n",
      "Epoch 75 likelihood is -87854.6717\n",
      "Train Accuracy: 0.99369\n",
      "Epoch 76 likelihood is -87693.9844\n",
      "Train Accuracy: 0.99369\n",
      "Epoch 77 likelihood is -87537.6812\n",
      "Train Accuracy: 0.99370\n",
      "Epoch 78 likelihood is -87385.6030\n",
      "Train Accuracy: 0.99370\n",
      "Epoch 79 likelihood is -87237.5984\n",
      "Train Accuracy: 0.99370\n",
      "Epoch 80 likelihood is -87093.5228\n",
      "Train Accuracy: 0.99370\n",
      "Epoch 81 likelihood is -86953.2387\n",
      "Train Accuracy: 0.99370\n",
      "Epoch 82 likelihood is -86816.6145\n",
      "Train Accuracy: 0.99371\n",
      "Epoch 83 likelihood is -86683.5248\n",
      "Train Accuracy: 0.99371\n",
      "Epoch 84 likelihood is -86553.8497\n",
      "Train Accuracy: 0.99371\n",
      "Epoch 85 likelihood is -86427.4747\n",
      "Train Accuracy: 0.99372\n",
      "Epoch 86 likelihood is -86304.2900\n",
      "Train Accuracy: 0.99372\n",
      "Epoch 87 likelihood is -86184.1910\n",
      "Train Accuracy: 0.99372\n",
      "Epoch 88 likelihood is -86067.0771\n",
      "Train Accuracy: 0.99373\n",
      "Epoch 89 likelihood is -85952.8523\n",
      "Train Accuracy: 0.99373\n",
      "Epoch 90 likelihood is -85841.4243\n",
      "Train Accuracy: 0.99374\n",
      "Epoch 91 likelihood is -85732.7048\n",
      "Train Accuracy: 0.99374\n",
      "Epoch 92 likelihood is -85626.6090\n",
      "Train Accuracy: 0.99374\n",
      "Epoch 93 likelihood is -85523.0557\n",
      "Train Accuracy: 0.99374\n",
      "Epoch 94 likelihood is -85421.9668\n",
      "Train Accuracy: 0.99374\n",
      "Epoch 95 likelihood is -85323.2671\n",
      "Train Accuracy: 0.99374\n",
      "Epoch 96 likelihood is -85226.8848\n",
      "Train Accuracy: 0.99375\n",
      "Epoch 97 likelihood is -85132.7505\n",
      "Train Accuracy: 0.99375\n",
      "Epoch 98 likelihood is -85040.7975\n",
      "Train Accuracy: 0.99375\n",
      "Epoch 99 likelihood is -84950.9618\n",
      "Train Accuracy: 0.99376\n",
      "LR took 374 seconds\n"
     ]
    },
    {
     "name": "stderr",
     "output_type": "stream",
     "text": [
      "logit.py:47: VisibleDeprecationWarning: non integer (and non boolean) array-likes will not be accepted as indices in the future\n",
      "  indicator[np.arange(len(labels)), labels_ind] = 1\n"
     ]
    }
   ],
   "source": [
    "from logit import train_lr,predict_lr\n",
    "learning_rate = 10**-5\n",
    "lambda_value = 0.1\n",
    "s = time.time()\n",
    "\n",
    "X_train = np.array(X_train)\n",
    "W = np.zeros((X_train.shape[1], len(set(Y_train)))).astype(\"float64\")\n",
    "lr_W = train_lr(X_train,Y_train,W,100)\n",
    "\n",
    "e = time.time()\n",
    "print \"LR took %2.f seconds\"%(e-s)"
   ]
  },
  {
   "cell_type": "code",
   "execution_count": 155,
   "metadata": {
    "collapsed": false
   },
   "outputs": [],
   "source": [
    "dev_X = []\n",
    "with open (\"svm_pred\",\"a\") as svm_pred:\n",
    "    with open(\"lr_pred\",\"a\") as lr_pred:\n",
    "        with open(\"dev.csv\") as dev:\n",
    "            for line in dev.readlines():\n",
    "                line = line.split(\",\")\n",
    "                u = int(line[1])\n",
    "                v = int(line[0])\n",
    "                features = np.multiply(U[u,:],V[v,:])\n",
    "#                 svm_pred.write(str(np.dot(SVM_W,features)) + \"\\n\")\n",
    "                lr_pred.write(str(np.dot(lr_W,features))+\"\\n\")"
   ]
  },
  {
   "cell_type": "code",
   "execution_count": 151,
   "metadata": {
    "collapsed": false
   },
   "outputs": [],
   "source": [
    "with open(\"predictions.txt\",\"a\") as pred:\n",
    "    with open(\"test.csv\") as dev:\n",
    "            for line in dev.readlines():\n",
    "                line = line.split(\",\")\n",
    "                u = int(line[1])\n",
    "                v = int(line[0])\n",
    "                features = np.multiply(U[u,:],V[v,:])\n",
    "                pred.write(str(np.dot(lr_W,features))+\"\\n\")"
   ]
  },
  {
   "cell_type": "code",
   "execution_count": null,
   "metadata": {
    "collapsed": true
   },
   "outputs": [],
   "source": []
  }
 ],
 "metadata": {
  "kernelspec": {
   "display_name": "Python 2",
   "language": "python",
   "name": "python2"
  },
  "language_info": {
   "codemirror_mode": {
    "name": "ipython",
    "version": 2
   },
   "file_extension": ".py",
   "mimetype": "text/x-python",
   "name": "python",
   "nbconvert_exporter": "python",
   "pygments_lexer": "ipython2",
   "version": "2.7.11"
  }
 },
 "nbformat": 4,
 "nbformat_minor": 0
}
