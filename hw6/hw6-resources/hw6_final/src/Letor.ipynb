{
 "cells": [
  {
   "cell_type": "markdown",
   "metadata": {},
   "source": [
    "First we import the libraries and load the training data"
   ]
  },
  {
   "cell_type": "code",
   "execution_count": 69,
   "metadata": {
    "collapsed": false
   },
   "outputs": [
    {
     "name": "stdout",
     "output_type": "stream",
     "text": [
      "(820367,)\n"
     ]
    }
   ],
   "source": [
    "import numpy as np\n",
    "from scipy.sparse import csr_matrix,rand,coo_matrix\n",
    "from sklearn.metrics.pairwise import cosine_similarity\n",
    "from sklearn.preprocessing import normalize\n",
    "import numpy.linalg as LA\n",
    "import time\n",
    "import sys\n",
    "import math\n",
    "from subprocess import call\n",
    "\n",
    "path = \"preprocess_train_matrix_fact\"\n",
    "\n",
    "with open(path) as train:\n",
    "    rows = []\n",
    "    cols = []\n",
    "    data = []\n",
    "    max_row = 0\n",
    "    max_col = 0\n",
    "    for line in train.readlines():\n",
    "        current = line.split(\" \")\n",
    "        r = int(current[0])\n",
    "        if r > max_row:\n",
    "            max_row = r\n",
    "        for movie in current[1].split(\",\"):\n",
    "            movie_list = movie.split(\"#\")\n",
    "            rows.append(r)\n",
    "            c = int(movie_list[0])\n",
    "            cols.append(c)\n",
    "            if c > max_col:\n",
    "                max_col = c\n",
    "            data.append(float(movie_list[1]))\n",
    "\n",
    "    rating_matrix =csr_matrix((data,(rows,cols)), shape=(max_row+1,max_col+1))\n",
    "    \n",
    "print rating_matrix.data.shape"
   ]
  },
  {
   "cell_type": "markdown",
   "metadata": {},
   "source": [
    "We train pmf and get k latent factors"
   ]
  },
  {
   "cell_type": "code",
   "execution_count": 156,
   "metadata": {
    "collapsed": false
   },
   "outputs": [
    {
     "name": "stdout",
     "output_type": "stream",
     "text": [
      "Lambda_U = 0.010000\n",
      "Lambda_V = 0.010000\n",
      "Initial error: 250668380.54\n",
      "Epoch 1\n",
      "Cost: 1009652.15\n",
      "Epoch 2\n",
      "Cost: 643626.86\n",
      "Epoch 3\n",
      "Cost: 504731.70\n",
      "Epoch 4\n",
      "Cost: 422721.02\n",
      "Epoch 5\n",
      "Cost: 369979.49\n",
      "Epoch 6\n",
      "Cost: 334376.65\n",
      "Epoch 7\n",
      "Cost: 308516.52\n",
      "Epoch 8\n",
      "Cost: 288488.77\n",
      "Epoch 9\n",
      "Cost: 272202.46\n",
      "Epoch 10\n",
      "Cost: 258465.46\n",
      "Epoch 11\n",
      "Cost: 246555.04\n",
      "Epoch 12\n",
      "Cost: 236009.85\n",
      "Epoch 13\n",
      "Cost: 226523.03\n",
      "Epoch 14\n",
      "Cost: 217883.95\n",
      "Epoch 15\n",
      "Cost: 209944.06\n",
      "Epoch 16\n",
      "Cost: 202595.82\n",
      "Epoch 17\n",
      "Cost: 195759.19\n",
      "Epoch 18\n",
      "Cost: 189372.90\n",
      "Epoch 19\n",
      "Cost: 183388.71\n",
      "Epoch 20\n",
      "Cost: 177767.61\n",
      "Epoch 21\n",
      "Cost: 172477.28\n",
      "Epoch 22\n",
      "Cost: 167490.36\n",
      "Epoch 23\n",
      "Cost: 162783.23\n",
      "Epoch 24\n",
      "Cost: 158335.21\n",
      "Epoch 25\n",
      "Cost: 154127.90\n",
      "Epoch 26\n",
      "Cost: 150144.77\n",
      "Epoch 27\n",
      "Cost: 146370.87\n",
      "Epoch 28\n",
      "Cost: 142792.52\n",
      "Epoch 29\n",
      "Cost: 139397.20\n",
      "Epoch 30\n",
      "Cost: 136173.37\n",
      "Epoch 31\n",
      "Cost: 133110.33\n",
      "Epoch 32\n",
      "Cost: 130198.22\n",
      "Epoch 33\n",
      "Cost: 127427.82\n",
      "Epoch 34\n",
      "Cost: 124790.60\n",
      "Epoch 35\n",
      "Cost: 122278.59\n",
      "Epoch 36\n",
      "Cost: 119884.38\n",
      "Epoch 37\n",
      "Cost: 117601.02\n",
      "Epoch 38\n",
      "Cost: 115422.06\n",
      "Epoch 39\n",
      "Cost: 113341.45\n",
      "Epoch 40\n",
      "Cost: 111353.54\n",
      "Epoch 41\n",
      "Cost: 109453.04\n",
      "Epoch 42\n",
      "Cost: 107635.03\n",
      "Epoch 43\n",
      "Cost: 105894.86\n",
      "Epoch 44\n",
      "Cost: 104228.22\n",
      "Epoch 45\n",
      "Cost: 102631.05\n",
      "Epoch 46\n",
      "Cost: 101099.54\n",
      "Epoch 47\n",
      "Cost: 99630.16\n",
      "Epoch 48\n",
      "Cost: 98219.55\n",
      "Epoch 49\n",
      "Cost: 96864.60\n",
      "Epoch 50\n",
      "Cost: 95562.38\n",
      "Total of 0 iterations.\n",
      "lambda_u = 0.01\n",
      "lambda_v = 0.01\n",
      "alpha = 0.005\n"
     ]
    }
   ],
   "source": [
    "from pmf import matrix_fact\n",
    "k = 100\n",
    "U = np.random.random((rating_matrix.shape[0],k))\n",
    "\n",
    "V = np.random.random((rating_matrix.shape[1],k))\n",
    "\n",
    "s = time.time()\n",
    "\n",
    "E,_,U,V = matrix_fact(rating_matrix, U, V, k,alpha=0.005,lambda_u = 0.01, lambda_v = 0.01)\n",
    "rating_matrix.data = rating_matrix.data + 3\n",
    "e = time.time()"
   ]
  },
  {
   "cell_type": "code",
   "execution_count": 157,
   "metadata": {
    "collapsed": false
   },
   "outputs": [],
   "source": [
    "user_features = {}\n",
    "counter = 0\n",
    "extreme_rating = rating_matrix.copy()\n",
    "for i in range(len(extreme_rating.data)):\n",
    "    if extreme_rating.data[i] > 1 and  extreme_rating.data[i] < 5:\n",
    "        extreme_rating.data[i] = 0\n",
    "\n",
    "extreme_rating.eliminate_zeros()\n",
    "\n",
    "\n",
    "extreme_rating= extreme_rating.toarray()"
   ]
  },
  {
   "cell_type": "markdown",
   "metadata": {},
   "source": [
    "We create the features from the pmf results and get the statistics"
   ]
  },
  {
   "cell_type": "code",
   "execution_count": 158,
   "metadata": {
    "collapsed": false
   },
   "outputs": [
    {
     "name": "stdout",
     "output_type": "stream",
     "text": [
      "3520432\n"
     ]
    }
   ],
   "source": [
    "X_train = []\n",
    "Y_train = []\n",
    "s = time.time()\n",
    "\n",
    "for u in range(extreme_rating.shape[0]):\n",
    "    user_features[u] = []\n",
    "    current = extreme_rating[u,:]\n",
    "    items = current.nonzero()[0]\n",
    "\n",
    "\n",
    "    mult = np.multiply(U[u,:],V)\n",
    "    \n",
    "    flag = False\n",
    "    for i in items:\n",
    "        x_ui = mult[i]\n",
    "        for j in items:\n",
    "            if i == j:\n",
    "                continue\n",
    "\n",
    "            if abs(extreme_rating[u,i] - extreme_rating[u,j]) >= 4:\n",
    "                x_uj = mult[j]\n",
    "                features = x_ui - x_uj\n",
    "                X_train.append(features)\n",
    "                label = (extreme_rating[u,i] - extreme_rating[u,j])/abs(extreme_rating[u,i] - extreme_rating[u,j])\n",
    "                Y_train.append(label)\n",
    "                user_features[u].append([features,label])\n",
    "                counter +=1\n",
    "e = time.time()\n",
    "\n",
    "\n",
    "\n",
    "print counter"
   ]
  },
  {
   "cell_type": "code",
   "execution_count": 119,
   "metadata": {
    "collapsed": false
   },
   "outputs": [
    {
     "name": "stdout",
     "output_type": "stream",
     "text": [
      "29.9132840633\n"
     ]
    }
   ],
   "source": [
    "print e-s"
   ]
  },
  {
   "cell_type": "code",
   "execution_count": 120,
   "metadata": {
    "collapsed": false
   },
   "outputs": [
    {
     "name": "stdout",
     "output_type": "stream",
     "text": [
      "1.0\n"
     ]
    }
   ],
   "source": [
    "pos = 0.0\n",
    "neg = 0.0\n",
    "\n",
    "for u in user_features:\n",
    "    for r in user_features[u]:\n",
    "        if r[1] > 0:\n",
    "            pos+=1\n",
    "        else:\n",
    "            neg+=1\n",
    "print pos/neg"
   ]
  },
  {
   "cell_type": "code",
   "execution_count": 121,
   "metadata": {
    "collapsed": false
   },
   "outputs": [
    {
     "data": {
      "text/plain": [
       "196"
      ]
     },
     "execution_count": 121,
     "metadata": {},
     "output_type": "execute_result"
    }
   ],
   "source": [
    "len(user_features[1234])"
   ]
  },
  {
   "cell_type": "code",
   "execution_count": 122,
   "metadata": {
    "collapsed": false
   },
   "outputs": [
    {
     "data": {
      "text/plain": [
       "64"
      ]
     },
     "execution_count": 122,
     "metadata": {},
     "output_type": "execute_result"
    }
   ],
   "source": [
    "len(user_features[4321])"
   ]
  },
  {
   "cell_type": "markdown",
   "metadata": {},
   "source": [
    "We persist features to disk to train SVM"
   ]
  },
  {
   "cell_type": "code",
   "execution_count": 123,
   "metadata": {
    "collapsed": false
   },
   "outputs": [],
   "source": [
    "# with open(\"training_set\",\"a\") as f:\n",
    "#     for u in user_features:\n",
    "#         for r in user_features[u]:\n",
    "#             string = \"\"\n",
    "#             string+= str(int(r[1]))\n",
    "#             for idx,feature in enumerate(r[0]):\n",
    "#                 string+=\" \" + str(idx+1) + \":\" +str(feature)\n",
    "#             string += \"\\n\"\n",
    "#             f.write(string)\n",
    "\n",
    "            \n",
    "            "
   ]
  },
  {
   "cell_type": "markdown",
   "metadata": {},
   "source": [
    "We train SVM and LR models"
   ]
  },
  {
   "cell_type": "code",
   "execution_count": 124,
   "metadata": {
    "collapsed": false
   },
   "outputs": [],
   "source": [
    "# s = time.time()\n",
    "\n",
    "# call([\"liblinear-2.1/train\", \"training_set\"])\n",
    "\n",
    "# e = time.time()\n",
    "\n",
    "# print \"SVM took %2.f seconds\"%(e-s)"
   ]
  },
  {
   "cell_type": "code",
   "execution_count": 125,
   "metadata": {
    "collapsed": false
   },
   "outputs": [],
   "source": [
    "# with open(\"training_set.model\") as f:\n",
    "#     lines = f.readlines()\n",
    "#     i = 0\n",
    "#     while lines[i] != \"w\\n\":\n",
    "#         i+=1\n",
    "#     i+=1\n",
    "#     SVM_W = []\n",
    "#     while i < len(lines):\n",
    "#         SVM_W.append(float(lines[i]))\n",
    "#         i+=1\n"
   ]
  },
  {
   "cell_type": "code",
   "execution_count": 159,
   "metadata": {
    "collapsed": false
   },
   "outputs": [
    {
     "name": "stdout",
     "output_type": "stream",
     "text": [
      "Initial likelihood is -2440177.5152\n",
      "Train Accuracy: 0.50000\n",
      "Epoch 0 likelihood is -645475.8923\n",
      "Train Accuracy: 0.99941\n",
      "Epoch 1 likelihood is -374530.0002\n",
      "Train Accuracy: 0.99949\n",
      "Epoch 2 likelihood is -269174.0837\n",
      "Train Accuracy: 0.99953\n",
      "Epoch 3 likelihood is -212970.5683\n",
      "Train Accuracy: 0.99955\n",
      "Epoch 4 likelihood is -177889.7140\n",
      "Train Accuracy: 0.99957\n",
      "Epoch 5 likelihood is -153831.2483\n",
      "Train Accuracy: 0.99958\n",
      "Epoch 6 likelihood is -136262.8328\n",
      "Train Accuracy: 0.99959\n",
      "Epoch 7 likelihood is -122845.1829\n",
      "Train Accuracy: 0.99960\n",
      "Epoch 8 likelihood is -112247.0866\n",
      "Train Accuracy: 0.99960\n",
      "Epoch 9 likelihood is -103654.2572\n",
      "Train Accuracy: 0.99961\n",
      "Epoch 10 likelihood is -96540.0845\n",
      "Train Accuracy: 0.99961\n",
      "Epoch 11 likelihood is -90548.5838\n",
      "Train Accuracy: 0.99961\n",
      "Epoch 12 likelihood is -85430.2722\n",
      "Train Accuracy: 0.99962\n",
      "Epoch 13 likelihood is -81004.9865\n",
      "Train Accuracy: 0.99962\n",
      "Epoch 14 likelihood is -77139.2887\n",
      "Train Accuracy: 0.99963\n",
      "Epoch 15 likelihood is -73732.1857\n",
      "Train Accuracy: 0.99963\n",
      "Epoch 16 likelihood is -70705.7949\n",
      "Train Accuracy: 0.99963\n",
      "Epoch 17 likelihood is -67999.0649\n",
      "Train Accuracy: 0.99963\n",
      "Epoch 18 likelihood is -65563.4419\n",
      "Train Accuracy: 0.99964\n",
      "Epoch 19 likelihood is -63359.8141\n",
      "Train Accuracy: 0.99964\n",
      "Epoch 20 likelihood is -61356.3118\n",
      "Train Accuracy: 0.99964\n",
      "Epoch 21 likelihood is -59526.6979\n",
      "Train Accuracy: 0.99964\n",
      "Epoch 22 likelihood is -57849.1699\n",
      "Train Accuracy: 0.99965\n",
      "Epoch 23 likelihood is -56305.4566\n",
      "Train Accuracy: 0.99965\n",
      "Epoch 24 likelihood is -54880.1270\n",
      "Train Accuracy: 0.99965\n",
      "Epoch 25 likelihood is -53560.0564\n",
      "Train Accuracy: 0.99965\n",
      "Epoch 26 likelihood is -52334.0087\n",
      "Train Accuracy: 0.99965\n",
      "Epoch 27 likelihood is -51192.3070\n",
      "Train Accuracy: 0.99965\n",
      "Epoch 28 likelihood is -50126.5700\n",
      "Train Accuracy: 0.99965\n",
      "Epoch 29 likelihood is -49129.5019\n",
      "Train Accuracy: 0.99965\n",
      "Epoch 30 likelihood is -48194.7203\n",
      "Train Accuracy: 0.99966\n",
      "Epoch 31 likelihood is -47316.6174\n",
      "Train Accuracy: 0.99966\n",
      "Epoch 32 likelihood is -46490.2452\n",
      "Train Accuracy: 0.99966\n",
      "Epoch 33 likelihood is -45711.2202\n",
      "Train Accuracy: 0.99966\n",
      "Epoch 34 likelihood is -44975.6453\n",
      "Train Accuracy: 0.99966\n",
      "Epoch 35 likelihood is -44280.0432\n",
      "Train Accuracy: 0.99966\n",
      "Epoch 36 likelihood is -43621.3013\n",
      "Train Accuracy: 0.99966\n",
      "Epoch 37 likelihood is -42996.6249\n",
      "Train Accuracy: 0.99967\n",
      "Epoch 38 likelihood is -42403.4971\n",
      "Train Accuracy: 0.99967\n",
      "Epoch 39 likelihood is -41839.6450\n",
      "Train Accuracy: 0.99967\n",
      "Epoch 40 likelihood is -41303.0108\n",
      "Train Accuracy: 0.99967\n",
      "Epoch 41 likelihood is -40791.7265\n",
      "Train Accuracy: 0.99967\n",
      "Epoch 42 likelihood is -40304.0928\n",
      "Train Accuracy: 0.99967\n",
      "Epoch 43 likelihood is -39838.5598\n",
      "Train Accuracy: 0.99967\n",
      "Epoch 44 likelihood is -39393.7112\n",
      "Train Accuracy: 0.99968\n",
      "Epoch 45 likelihood is -38968.2501\n",
      "Train Accuracy: 0.99968\n",
      "Epoch 46 likelihood is -38560.9864\n",
      "Train Accuracy: 0.99968\n",
      "Epoch 47 likelihood is -38170.8262\n",
      "Train Accuracy: 0.99968\n",
      "Epoch 48 likelihood is -37796.7619\n",
      "Train Accuracy: 0.99968\n",
      "Epoch 49 likelihood is -37437.8641\n",
      "Train Accuracy: 0.99968\n",
      "Epoch 50 likelihood is -37093.2740\n",
      "Train Accuracy: 0.99968\n",
      "Epoch 51 likelihood is -36762.1967\n",
      "Train Accuracy: 0.99968\n",
      "Epoch 52 likelihood is -36443.8952\n",
      "Train Accuracy: 0.99968\n",
      "Epoch 53 likelihood is -36137.6857\n",
      "Train Accuracy: 0.99968\n",
      "Epoch 54 likelihood is -35842.9323\n",
      "Train Accuracy: 0.99968\n",
      "Epoch 55 likelihood is -35559.0431\n",
      "Train Accuracy: 0.99968\n",
      "Epoch 56 likelihood is -35285.4663\n",
      "Train Accuracy: 0.99968\n",
      "Epoch 57 likelihood is -35021.6871\n",
      "Train Accuracy: 0.99968\n",
      "Epoch 58 likelihood is -34767.2244\n",
      "Train Accuracy: 0.99968\n",
      "Epoch 59 likelihood is -34521.6279\n",
      "Train Accuracy: 0.99968\n",
      "Epoch 60 likelihood is -34284.4763\n",
      "Train Accuracy: 0.99968\n",
      "Epoch 61 likelihood is -34055.3741\n",
      "Train Accuracy: 0.99968\n",
      "Epoch 62 likelihood is -33833.9505\n",
      "Train Accuracy: 0.99968\n",
      "Epoch 63 likelihood is -33619.8569\n",
      "Train Accuracy: 0.99969\n",
      "Epoch 64 likelihood is -33412.7653\n",
      "Train Accuracy: 0.99969\n",
      "Epoch 65 likelihood is -33212.3673\n",
      "Train Accuracy: 0.99969\n",
      "Epoch 66 likelihood is -33018.3719\n",
      "Train Accuracy: 0.99969\n",
      "Epoch 67 likelihood is -32830.5049\n",
      "Train Accuracy: 0.99969\n",
      "Epoch 68 likelihood is -32648.5073\n",
      "Train Accuracy: 0.99969\n",
      "Epoch 69 likelihood is -32472.1346\n",
      "Train Accuracy: 0.99969\n",
      "Epoch 70 likelihood is -32301.1553\n",
      "Train Accuracy: 0.99969\n",
      "Epoch 71 likelihood is -32135.3508\n",
      "Train Accuracy: 0.99969\n",
      "Epoch 72 likelihood is -31974.5135\n",
      "Train Accuracy: 0.99969\n",
      "Epoch 73 likelihood is -31818.4471\n",
      "Train Accuracy: 0.99969\n",
      "Epoch 74 likelihood is -31666.9651\n",
      "Train Accuracy: 0.99969\n",
      "Epoch 75 likelihood is -31519.8908\n",
      "Train Accuracy: 0.99969\n",
      "Epoch 76 likelihood is -31377.0560\n",
      "Train Accuracy: 0.99969\n",
      "Epoch 77 likelihood is -31238.3011\n",
      "Train Accuracy: 0.99969\n",
      "Epoch 78 likelihood is -31103.4741\n",
      "Train Accuracy: 0.99969\n",
      "Epoch 79 likelihood is -30972.4307\n",
      "Train Accuracy: 0.99969\n",
      "Epoch 80 likelihood is -30845.0330\n",
      "Train Accuracy: 0.99969\n",
      "Epoch 81 likelihood is -30721.1499\n",
      "Train Accuracy: 0.99969\n",
      "Epoch 82 likelihood is -30600.6563\n",
      "Train Accuracy: 0.99970\n",
      "Epoch 83 likelihood is -30483.4330\n",
      "Train Accuracy: 0.99970\n",
      "Epoch 84 likelihood is -30369.3659\n",
      "Train Accuracy: 0.99970\n",
      "Epoch 85 likelihood is -30258.3464\n",
      "Train Accuracy: 0.99970\n",
      "Epoch 86 likelihood is -30150.2704\n",
      "Train Accuracy: 0.99970\n",
      "Epoch 87 likelihood is -30045.0386\n",
      "Train Accuracy: 0.99970\n",
      "Epoch 88 likelihood is -29942.5559\n",
      "Train Accuracy: 0.99970\n",
      "Epoch 89 likelihood is -29842.7312\n",
      "Train Accuracy: 0.99970\n",
      "Epoch 90 likelihood is -29745.4775\n",
      "Train Accuracy: 0.99970\n",
      "Epoch 91 likelihood is -29650.7112\n",
      "Train Accuracy: 0.99970\n",
      "Epoch 92 likelihood is -29558.3523\n",
      "Train Accuracy: 0.99970\n",
      "Epoch 93 likelihood is -29468.3241\n",
      "Train Accuracy: 0.99970\n",
      "Epoch 94 likelihood is -29380.5530\n",
      "Train Accuracy: 0.99970\n",
      "Epoch 95 likelihood is -29294.9683\n",
      "Train Accuracy: 0.99970\n",
      "Epoch 96 likelihood is -29211.5022\n",
      "Train Accuracy: 0.99970\n",
      "Epoch 97 likelihood is -29130.0895\n",
      "Train Accuracy: 0.99970\n",
      "Epoch 98 likelihood is -29050.6677\n",
      "Train Accuracy: 0.99970\n",
      "Epoch 99 likelihood is -28973.1765\n",
      "Train Accuracy: 0.99970\n",
      "LR took 326 seconds\n"
     ]
    }
   ],
   "source": [
    "from logit import train_lr,predict_lr\n",
    "learning_rate = 10**-5\n",
    "lambda_value = 0.1\n",
    "s = time.time()\n",
    "\n",
    "X_train = np.array(X_train)\n",
    "W = np.zeros((X_train.shape[1], len(set(Y_train)))).astype(\"float64\")\n",
    "lr_W = train_lr(X_train,Y_train,W,100)\n",
    "\n",
    "e = time.time()\n",
    "print \"LR took %2.f seconds\"%(e-s)"
   ]
  },
  {
   "cell_type": "code",
   "execution_count": 160,
   "metadata": {
    "collapsed": false
   },
   "outputs": [],
   "source": [
    "dev_X = []\n",
    "with open (\"svm_pred\",\"a\") as svm_pred:\n",
    "    with open(\"lr_pred\",\"a\") as lr_pred:\n",
    "        with open(\"dev.csv\") as dev:\n",
    "            for line in dev.readlines():\n",
    "                line = line.split(\",\")\n",
    "                u = int(line[1])\n",
    "                v = int(line[0])\n",
    "                features = np.multiply(U[u,:],V[v,:])\n",
    "#                 svm_pred.write(str(np.dot(SVM_W,features)) + \"\\n\")\n",
    "                lr_pred.write(str(np.dot(lr_W,features))+\"\\n\")"
   ]
  },
  {
   "cell_type": "code",
   "execution_count": 161,
   "metadata": {
    "collapsed": false
   },
   "outputs": [],
   "source": [
    "with open(\"predictions.txt\",\"a\") as pred:\n",
    "    with open(\"test.csv\") as dev:\n",
    "            for line in dev.readlines():\n",
    "                line = line.split(\",\")\n",
    "                u = int(line[1])\n",
    "                v = int(line[0])\n",
    "                features = np.multiply(U[u,:],V[v,:])\n",
    "                pred.write(str(np.dot(lr_W,features))+\"\\n\")"
   ]
  },
  {
   "cell_type": "code",
   "execution_count": null,
   "metadata": {
    "collapsed": true
   },
   "outputs": [],
   "source": []
  }
 ],
 "metadata": {
  "kernelspec": {
   "display_name": "Python 2",
   "language": "python",
   "name": "python2"
  },
  "language_info": {
   "codemirror_mode": {
    "name": "ipython",
    "version": 2
   },
   "file_extension": ".py",
   "mimetype": "text/x-python",
   "name": "python",
   "nbconvert_exporter": "python",
   "pygments_lexer": "ipython2",
   "version": "2.7.11"
  }
 },
 "nbformat": 4,
 "nbformat_minor": 0
}
